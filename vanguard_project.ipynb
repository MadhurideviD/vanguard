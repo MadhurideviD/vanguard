{
 "cells": [
  {
   "cell_type": "code",
   "execution_count": 1,
   "metadata": {},
   "outputs": [],
   "source": [
    "import glob\n",
    "import os\n",
    "import pandas as pd\n",
    "\n",
    "# This grabs all .txt files in the folder\n",
    "txt_files = glob.glob('/Users/jhenifheralmeida/Documents/VANGUARD/*.txt')\n",
    "\n",
    "for file in txt_files:\n",
    "    df = pd.read_csv(file, sep=None, engine='python')  # lets pandas infer separator\n",
    "    csv_name = os.path.splitext(file)[0] + '.csv'\n",
    "    df.to_csv(csv_name, index=False)\n"
   ]
  },
  {
   "cell_type": "code",
   "execution_count": 2,
   "metadata": {},
   "outputs": [
    {
     "name": "stdout",
     "output_type": "stream",
     "text": [
      "<bound method NDFrame.head of         client_id Variation                      source_file  clnt_tenure_yr  \\\n",
      "0         9988021      Test  df_final_experiment_clients.csv             NaN   \n",
      "1         8320017      Test  df_final_experiment_clients.csv             NaN   \n",
      "2         4033851   Control  df_final_experiment_clients.csv             NaN   \n",
      "3         1982004      Test  df_final_experiment_clients.csv             NaN   \n",
      "4         9294070   Control  df_final_experiment_clients.csv             NaN   \n",
      "...           ...       ...                              ...             ...   \n",
      "896618    9668240       NaN       df_final_web_data_pt_2.csv             NaN   \n",
      "896619    9668240       NaN       df_final_web_data_pt_2.csv             NaN   \n",
      "896620    9668240       NaN       df_final_web_data_pt_2.csv             NaN   \n",
      "896621    9668240       NaN       df_final_web_data_pt_2.csv             NaN   \n",
      "896622     674799       NaN       df_final_web_data_pt_2.csv             NaN   \n",
      "\n",
      "        clnt_tenure_mnth  clnt_age gendr  num_accts  bal  calls_6_mnth  \\\n",
      "0                    NaN       NaN   NaN        NaN  NaN           NaN   \n",
      "1                    NaN       NaN   NaN        NaN  NaN           NaN   \n",
      "2                    NaN       NaN   NaN        NaN  NaN           NaN   \n",
      "3                    NaN       NaN   NaN        NaN  NaN           NaN   \n",
      "4                    NaN       NaN   NaN        NaN  NaN           NaN   \n",
      "...                  ...       ...   ...        ...  ...           ...   \n",
      "896618               NaN       NaN   NaN        NaN  NaN           NaN   \n",
      "896619               NaN       NaN   NaN        NaN  NaN           NaN   \n",
      "896620               NaN       NaN   NaN        NaN  NaN           NaN   \n",
      "896621               NaN       NaN   NaN        NaN  NaN           NaN   \n",
      "896622               NaN       NaN   NaN        NaN  NaN           NaN   \n",
      "\n",
      "        logons_6_mnth             visitor_id                     visit_id  \\\n",
      "0                 NaN                    NaN                          NaN   \n",
      "1                 NaN                    NaN                          NaN   \n",
      "2                 NaN                    NaN                          NaN   \n",
      "3                 NaN                    NaN                          NaN   \n",
      "4                 NaN                    NaN                          NaN   \n",
      "...               ...                    ...                          ...   \n",
      "896618            NaN   388766751_9038881013  922267647_3096648104_968866   \n",
      "896619            NaN   388766751_9038881013  922267647_3096648104_968866   \n",
      "896620            NaN   388766751_9038881013  922267647_3096648104_968866   \n",
      "896621            NaN   388766751_9038881013  922267647_3096648104_968866   \n",
      "896622            NaN  947159805_81558194550  86152093_47511127657_716022   \n",
      "\n",
      "       process_step            date_time  \n",
      "0               NaN                  NaN  \n",
      "1               NaN                  NaN  \n",
      "2               NaN                  NaN  \n",
      "3               NaN                  NaN  \n",
      "4               NaN                  NaN  \n",
      "...             ...                  ...  \n",
      "896618        start  2017-05-24 18:46:10  \n",
      "896619        start  2017-05-24 18:45:29  \n",
      "896620       step_1  2017-05-24 18:44:51  \n",
      "896621        start  2017-05-24 18:44:34  \n",
      "896622        start  2017-06-03 12:17:09  \n",
      "\n",
      "[896623 rows x 15 columns]>\n"
     ]
    }
   ],
   "source": [
    "#path to csv folders\n",
    "folder_path = '/Users/jhenifheralmeida/Documents/VANGUARD/'\n",
    "#read all csv in that folder\n",
    "csv_files = glob.glob('/Users/jhenifheralmeida/Documents/VANGUARD/' + '*.csv')\n",
    "\n",
    "#read and combine\n",
    "all_dfs = []\n",
    "for file in csv_files:\n",
    "    df = pd.read_csv(file)\n",
    "    df['source_file'] = os.path.basename(file)\n",
    "    all_dfs.append(df)\n",
    "\n",
    "#combine all into DataFrame\n",
    "combined_df = pd.concat(all_dfs, ignore_index=True)\n",
    "\n",
    "print(combined_df.head)"
   ]
  },
  {
   "cell_type": "code",
   "execution_count": 3,
   "metadata": {},
   "outputs": [
    {
     "name": "stdout",
     "output_type": "stream",
     "text": [
      "client_id                0\n",
      "variation           846123\n",
      "source_file              0\n",
      "clnt_tenure_yr      826028\n",
      "clnt_tenure_mnth    826028\n",
      "clnt_age            826029\n",
      "gendr               826028\n",
      "num_accts           826028\n",
      "bal                 826028\n",
      "calls_6_mnth        826028\n",
      "logons_6_mnth       826028\n",
      "visitor_id          141218\n",
      "visit_id            141218\n",
      "process_step        141218\n",
      "date_time           141218\n",
      "dtype: int64\n"
     ]
    }
   ],
   "source": [
    "#clean column name\n",
    "combined_df.columns = combined_df.columns.str.strip().str.lower().str.replace(' ', '_')\n",
    "#check missing data \n",
    "print(combined_df.isnull().sum())"
   ]
  },
  {
   "cell_type": "code",
   "execution_count": 4,
   "metadata": {},
   "outputs": [
    {
     "name": "stdout",
     "output_type": "stream",
     "text": [
      "           client_id variation                 source_file  clnt_tenure_yr  \\\n",
      "count   8.858590e+05     50500                      885859    70595.000000   \n",
      "unique           NaN         2                           4             NaN   \n",
      "top              NaN      Test  df_final_web_data_pt_2.csv             NaN   \n",
      "freq             NaN     26968                      403595             NaN   \n",
      "mean    5.012613e+06       NaN                         NaN       12.052950   \n",
      "std     2.879218e+06       NaN                         NaN        6.871819   \n",
      "min     1.690000e+02       NaN                         NaN        2.000000   \n",
      "25%     2.521514e+06       NaN                         NaN        6.000000   \n",
      "50%     5.028671e+06       NaN                         NaN       11.000000   \n",
      "75%     7.495440e+06       NaN                         NaN       16.000000   \n",
      "max     9.999875e+06       NaN                         NaN       62.000000   \n",
      "\n",
      "        clnt_tenure_mnth      clnt_age  gendr     num_accts           bal  \\\n",
      "count       70595.000000  70594.000000  70595  70595.000000  7.059500e+04   \n",
      "unique               NaN           NaN      4           NaN           NaN   \n",
      "top                  NaN           NaN      U           NaN           NaN   \n",
      "freq                 NaN           NaN  24122           NaN           NaN   \n",
      "mean          150.659367     46.442240    NaN      2.255528  1.474452e+05   \n",
      "std            82.089854     15.591273    NaN      0.534997  3.015087e+05   \n",
      "min            33.000000     13.500000    NaN      1.000000  1.378942e+04   \n",
      "25%            82.000000     32.500000    NaN      2.000000  3.734683e+04   \n",
      "50%           136.000000     47.000000    NaN      2.000000  6.333290e+04   \n",
      "75%           192.000000     59.000000    NaN      2.000000  1.375449e+05   \n",
      "max           749.000000     96.000000    NaN      8.000000  1.632004e+07   \n",
      "\n",
      "        calls_6_mnth  logons_6_mnth             visitor_id  \\\n",
      "count   70595.000000   70595.000000                 744641   \n",
      "unique           NaN            NaN                 130236   \n",
      "top              NaN            NaN  699275239_82397698587   \n",
      "freq             NaN            NaN                     74   \n",
      "mean        3.382478       5.566740                    NaN   \n",
      "std         2.236580       2.353286                    NaN   \n",
      "min         0.000000       1.000000                    NaN   \n",
      "25%         1.000000       4.000000                    NaN   \n",
      "50%         3.000000       5.000000                    NaN   \n",
      "75%         6.000000       7.000000                    NaN   \n",
      "max         7.000000       9.000000                    NaN   \n",
      "\n",
      "                           visit_id process_step            date_time  \n",
      "count                        744641       744641               744641  \n",
      "unique                       158095            5               629363  \n",
      "top     712824876_8175482950_365042        start  2017-03-29 11:24:54  \n",
      "freq                             61       234999                   14  \n",
      "mean                            NaN          NaN                  NaN  \n",
      "std                             NaN          NaN                  NaN  \n",
      "min                             NaN          NaN                  NaN  \n",
      "25%                             NaN          NaN                  NaN  \n",
      "50%                             NaN          NaN                  NaN  \n",
      "75%                             NaN          NaN                  NaN  \n",
      "max                             NaN          NaN                  NaN  \n"
     ]
    }
   ],
   "source": [
    "#remove duplicates\n",
    "combined_df.drop_duplicates(inplace=True)\n",
    "print(combined_df.describe(include='all'))"
   ]
  },
  {
   "cell_type": "code",
   "execution_count": 5,
   "metadata": {},
   "outputs": [
    {
     "name": "stdout",
     "output_type": "stream",
     "text": [
      "client_id             int64\n",
      "variation            object\n",
      "source_file          object\n",
      "clnt_tenure_yr      float64\n",
      "clnt_tenure_mnth    float64\n",
      "clnt_age            float64\n",
      "gendr                object\n",
      "num_accts           float64\n",
      "bal                 float64\n",
      "calls_6_mnth        float64\n",
      "logons_6_mnth       float64\n",
      "visitor_id           object\n",
      "visit_id             object\n",
      "process_step         object\n",
      "date_time            object\n",
      "dtype: object\n"
     ]
    }
   ],
   "source": [
    "print(combined_df.dtypes)"
   ]
  }
 ],
 "metadata": {
  "kernelspec": {
   "display_name": "base",
   "language": "python",
   "name": "python3"
  },
  "language_info": {
   "codemirror_mode": {
    "name": "ipython",
    "version": 3
   },
   "file_extension": ".py",
   "mimetype": "text/x-python",
   "name": "python",
   "nbconvert_exporter": "python",
   "pygments_lexer": "ipython3",
   "version": "3.12.7"
  }
 },
 "nbformat": 4,
 "nbformat_minor": 2
}
